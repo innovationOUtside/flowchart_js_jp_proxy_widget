{
 "cells": [
  {
   "cell_type": "code",
   "execution_count": 1,
   "metadata": {},
   "outputs": [
    {
     "data": {
      "application/vnd.jupyter.widget-view+json": {
       "model_id": "f1582914971c48f590f5f374ff4b5cf2",
       "version_major": 2,
       "version_minor": 0
      },
      "text/plain": [
       "FlowchartWidget(status='Not yet rendered')"
      ]
     },
     "metadata": {},
     "output_type": "display_data"
    }
   ],
   "source": [
    "from jp_flowchartjs.jp_flowchartjs import FlowchartWidget\n",
    "\n",
    "fcode='''\n",
    "st=>start: Start\n",
    "e=>end: End\n",
    "op1=>operation: Generate\n",
    "op2=>parallel: Evaluate\n",
    "st(right)->op1(right)->op2\n",
    "op2(path1, top)->op1\n",
    "op2(path2, right)->e\n",
    "'''\n",
    "\n",
    "testEmbed = FlowchartWidget()\n",
    "testEmbed.charter(fcode)\n",
    "testEmbed"
   ]
  },
  {
   "cell_type": "markdown",
   "metadata": {},
   "source": [
    "### Return SVG embed"
   ]
  },
  {
   "cell_type": "code",
   "execution_count": 2,
   "metadata": {},
   "outputs": [
    {
     "data": {
      "image/svg+xml": [
       "<svg height=\"66.5\" preserveAspectRatio=\"xMidYMid meet\" style=\"overflow: hidden; position: relative; left: -0.328125px; top: -0.78125px;\" version=\"1.1\" viewBox=\"0 -22 457.4296875 66.5\" width=\"457.4296875\" xmlns=\"http://www.w3.org/2000/svg\" xmlns:xlink=\"http://www.w3.org/1999/xlink\"><desc style=\"-webkit-tap-highlight-color: rgba(0, 0, 0, 0);\">Created with Raphaël 2.3.0</desc><defs style=\"-webkit-tap-highlight-color: rgba(0, 0, 0, 0);\"><path d=\"M5,0 0,2.5 5,5z\" id=\"raphael-marker-block\" stroke-linecap=\"round\" style=\"-webkit-tap-highlight-color: rgba(0, 0, 0, 0);\"/><marker id=\"raphael-marker-endblock33-objzy7dd\" markerHeight=\"3\" markerWidth=\"3\" orient=\"auto\" refX=\"1.5\" refY=\"1.5\" style=\"-webkit-tap-highlight-color: rgba(0, 0, 0, 0);\"><use fill=\"black\" stroke=\"none\" stroke-width=\"1.6667\" style=\"-webkit-tap-highlight-color: rgba(0, 0, 0, 0);\" transform=\"rotate(180 1.5 1.5) scale(0.6,0.6)\" xlink:href=\"#raphael-marker-block\"/></marker><marker id=\"raphael-marker-endblock33-obj6hxf2\" markerHeight=\"3\" markerWidth=\"3\" orient=\"auto\" refX=\"1.5\" refY=\"1.5\" style=\"-webkit-tap-highlight-color: rgba(0, 0, 0, 0);\"><use fill=\"black\" stroke=\"none\" stroke-width=\"1.6667\" style=\"-webkit-tap-highlight-color: rgba(0, 0, 0, 0);\" transform=\"rotate(180 1.5 1.5) scale(0.6,0.6)\" xlink:href=\"#raphael-marker-block\"/></marker><marker id=\"raphael-marker-endblock33-objjqdzo\" markerHeight=\"3\" markerWidth=\"3\" orient=\"auto\" refX=\"1.5\" refY=\"1.5\" style=\"-webkit-tap-highlight-color: rgba(0, 0, 0, 0);\"><use fill=\"black\" stroke=\"none\" stroke-width=\"1.6667\" style=\"-webkit-tap-highlight-color: rgba(0, 0, 0, 0);\" transform=\"rotate(180 1.5 1.5) scale(0.6,0.6)\" xlink:href=\"#raphael-marker-block\"/></marker><marker id=\"raphael-marker-endblock33-objxhbyx\" markerHeight=\"3\" markerWidth=\"3\" orient=\"auto\" refX=\"1.5\" refY=\"1.5\" style=\"-webkit-tap-highlight-color: rgba(0, 0, 0, 0);\"><use fill=\"black\" stroke=\"none\" stroke-width=\"1.6667\" style=\"-webkit-tap-highlight-color: rgba(0, 0, 0, 0);\" transform=\"rotate(180 1.5 1.5) scale(0.6,0.6)\" xlink:href=\"#raphael-marker-block\"/></marker></defs><rect class=\"flowchart\" fill=\"#ffffff\" height=\"35.5\" id=\"st\" rx=\"20\" ry=\"20\" stroke=\"#000000\" stroke-width=\"3\" style=\"-webkit-tap-highlight-color: rgba(0, 0, 0, 0);\" transform=\"matrix(1,0,0,1,20.3984,6)\" width=\"49.578125\" x=\"0\" y=\"0\"/><text class=\"flowchartt\" fill=\"#000000\" font-family=\"&quot;Arial&quot;\" font-size=\"14px\" id=\"stt\" stroke=\"none\" stroke-width=\"1\" style=\"-webkit-tap-highlight-color: rgba(0, 0, 0, 0); text-anchor: start; font-family: Arial; font-size: 14px;\" text-anchor=\"start\" transform=\"matrix(1,0,0,1,20.3984,6)\" x=\"10\" y=\"17.75\"><tspan dy=\"4.75\" style=\"-webkit-tap-highlight-color: rgba(0, 0, 0, 0);\">Start</tspan></text><rect class=\"flowchart\" fill=\"#ffffff\" height=\"35.5\" id=\"op1\" rx=\"0\" ry=\"0\" stroke=\"#000000\" stroke-width=\"3\" style=\"-webkit-tap-highlight-color: rgba(0, 0, 0, 0);\" transform=\"matrix(1,0,0,1,125.9766,6)\" width=\"78.375\" x=\"0\" y=\"0\"/><text class=\"flowchartt\" fill=\"#000000\" font-family=\"&quot;Arial&quot;\" font-size=\"14px\" id=\"op1t\" stroke=\"none\" stroke-width=\"1\" style=\"-webkit-tap-highlight-color: rgba(0, 0, 0, 0); text-anchor: start; font-family: Arial; font-size: 14px;\" text-anchor=\"start\" transform=\"matrix(1,0,0,1,125.9766,6)\" x=\"10\" y=\"17.75\"><tspan dy=\"4.75\" style=\"-webkit-tap-highlight-color: rgba(0, 0, 0, 0);\">Generate</tspan></text><rect class=\"flowchart\" fill=\"#ffffff\" height=\"35.5\" id=\"op2\" rx=\"0\" ry=\"0\" stroke=\"#000000\" stroke-width=\"3\" style=\"-webkit-tap-highlight-color: rgba(0, 0, 0, 0);\" transform=\"matrix(1,0,0,1,262.2969,6)\" width=\"74.484375\" x=\"0\" y=\"0\"/><text class=\"flowchartt\" fill=\"#000000\" font-family=\"&quot;Arial&quot;\" font-size=\"14px\" id=\"op2t\" stroke=\"none\" stroke-width=\"1\" style=\"-webkit-tap-highlight-color: rgba(0, 0, 0, 0); text-anchor: start; font-family: Arial; font-size: 14px;\" text-anchor=\"start\" transform=\"matrix(1,0,0,1,262.2969,6)\" x=\"10\" y=\"17.75\"><tspan dy=\"4.75\" style=\"-webkit-tap-highlight-color: rgba(0, 0, 0, 0);\">Evaluate</tspan></text><rect class=\"flowchart\" fill=\"#ffffff\" height=\"35.5\" id=\"e\" rx=\"20\" ry=\"20\" stroke=\"#000000\" stroke-width=\"3\" style=\"-webkit-tap-highlight-color: rgba(0, 0, 0, 0);\" transform=\"matrix(1,0,0,1,409.5078,6)\" width=\"44.921875\" x=\"0\" y=\"0\"/><text class=\"flowchartt\" fill=\"#000000\" font-family=\"&quot;Arial&quot;\" font-size=\"14px\" id=\"et\" stroke=\"none\" stroke-width=\"1\" style=\"-webkit-tap-highlight-color: rgba(0, 0, 0, 0); text-anchor: start; font-family: Arial; font-size: 14px;\" text-anchor=\"start\" transform=\"matrix(1,0,0,1,409.5078,6)\" x=\"10\" y=\"17.75\"><tspan dy=\"4.75\" style=\"-webkit-tap-highlight-color: rgba(0, 0, 0, 0);\">End</tspan></text><path d=\"M69.9765625,23.75C69.9765625,23.75,108.17733335494995,23.75,121.47672281763516,23.75\" fill=\"none\" marker-end=\"url(#raphael-marker-endblock33-objzy7dd)\" stroke=\"#000000\" stroke-width=\"3\" style=\"-webkit-tap-highlight-color: rgba(0, 0, 0, 0);\"/><path d=\"M204.3515625,23.75C204.3515625,23.75,244.1837150529027,23.75,257.7982203200081,23.75\" fill=\"none\" marker-end=\"url(#raphael-marker-endblock33-obj6hxf2)\" stroke=\"#000000\" stroke-width=\"3\" style=\"-webkit-tap-highlight-color: rgba(0, 0, 0, 0);\"/><path d=\"M299.5390625,6C299.5390625,6,299.5390625,-19,299.5390625,-19C299.5390625,-19,165.1640625,-19,165.1640625,-19C165.1640625,-19,165.1640625,-5.696028709411621,165.1640625,1.5016276333481073\" fill=\"none\" marker-end=\"url(#raphael-marker-endblock33-objjqdzo)\" stroke=\"#000000\" stroke-width=\"3\" style=\"-webkit-tap-highlight-color: rgba(0, 0, 0, 0);\"/><path d=\"M336.78125,23.75C336.78125,23.75,389.1572949066758,23.75,405.01332412647025,23.75\" fill=\"none\" marker-end=\"url(#raphael-marker-endblock33-objxhbyx)\" stroke=\"#000000\" stroke-width=\"3\" style=\"-webkit-tap-highlight-color: rgba(0, 0, 0, 0);\"/></svg>"
      ],
      "text/plain": [
       "<IPython.core.display.SVG object>"
      ]
     },
     "execution_count": 2,
     "metadata": {},
     "output_type": "execute_result"
    }
   ],
   "source": [
    "testEmbed.embed_svg()"
   ]
  },
  {
   "cell_type": "markdown",
   "metadata": {},
   "source": [
    "### Return Raw SVG data"
   ]
  },
  {
   "cell_type": "code",
   "execution_count": 3,
   "metadata": {},
   "outputs": [
    {
     "data": {
      "text/plain": [
       "'<svg height=\"66.5\" version=\"1.1\" width=\"457.4296875\" xmlns=\"http://www.w3.org/2000/svg\" xmlns:xlink=\"http://www.w3.org/1999/xlink\" style=\"overflow: hidden; position: relative; left: -0.328125px; top: -0.78125px;\" viewBox=\"0 -22 457.4296875 66.5\" preserveAspectRatio=\"xMidYMid meet\"><desc style=\"-webkit-tap-highlight-color: rgba(0, 0, 0, 0);\">Created with Raphaël 2.3.0</desc><defs style=\"-webkit-tap-highlight-color: rgba(0, 0, 0, 0);\"><path stroke-linecap=\"round\" d=\"M5,0 0,2.5 5,5z\" id=\"raphael-marker-block\" style=\"-webkit-tap-highlight-color: rgba(0, 0, 0, 0);\"></path><marker id=\"raphael-marker-endblock33-objzy7dd\" markerHeight=\"3\" markerWidth=\"3\" orient=\"auto\" refX=\"1.5\" refY=\"1.5\" style=\"-webkit-tap-highlight-color: rgba(0, 0, 0, 0);\"><use xlink:href=\"#raphael-marker-block\" transform=\"rotate(180 1.5 1.5) scale(0.6,0.6)\" stroke-width=\"1.6667\" fill=\"black\" stroke=\"none\" style=\"-webkit-tap-highlight-color: rgba(0, 0, 0, 0);\"></use></marker><marker id=\"raphael-marker-endblock33-obj6hxf2\" markerHeight=\"3\" markerWidth=\"3\" orient=\"auto\" refX=\"1.5\" refY=\"1.5\" style=\"-webkit-tap-highlight-color: rgba(0, 0, 0, 0);\"><use xlink:href=\"#raphael-marker-block\" transform=\"rotate(180 1.5 1.5) scale(0.6,0.6)\" stroke-width=\"1.6667\" fill=\"black\" stroke=\"none\" style=\"-webkit-tap-highlight-color: rgba(0, 0, 0, 0);\"></use></marker><marker id=\"raphael-marker-endblock33-objjqdzo\" markerHeight=\"3\" markerWidth=\"3\" orient=\"auto\" refX=\"1.5\" refY=\"1.5\" style=\"-webkit-tap-highlight-color: rgba(0, 0, 0, 0);\"><use xlink:href=\"#raphael-marker-block\" transform=\"rotate(180 1.5 1.5) scale(0.6,0.6)\" stroke-width=\"1.6667\" fill=\"black\" stroke=\"none\" style=\"-webkit-tap-highlight-color: rgba(0, 0, 0, 0);\"></use></marker><marker id=\"raphael-marker-endblock33-objxhbyx\" markerHeight=\"3\" markerWidth=\"3\" orient=\"auto\" refX=\"1.5\" refY=\"1.5\" style=\"-webkit-tap-highlight-color: rgba(0, 0, 0, 0);\"><use xlink:href=\"#raphael-marker-block\" transform=\"rotate(180 1.5 1.5) scale(0.6,0.6)\" stroke-width=\"1.6667\" fill=\"black\" stroke=\"none\" style=\"-webkit-tap-highlight-color: rgba(0, 0, 0, 0);\"></use></marker></defs><rect x=\"0\" y=\"0\" width=\"49.578125\" height=\"35.5\" rx=\"20\" ry=\"20\" fill=\"#ffffff\" stroke=\"#000000\" style=\"-webkit-tap-highlight-color: rgba(0, 0, 0, 0);\" stroke-width=\"3\" class=\"flowchart\" id=\"st\" transform=\"matrix(1,0,0,1,20.3984,6)\"></rect><text x=\"10\" y=\"17.75\" text-anchor=\"start\" font-family=\"&quot;Arial&quot;\" font-size=\"14px\" stroke=\"none\" fill=\"#000000\" style=\"-webkit-tap-highlight-color: rgba(0, 0, 0, 0); text-anchor: start; font-family: Arial; font-size: 14px;\" id=\"stt\" class=\"flowchartt\" transform=\"matrix(1,0,0,1,20.3984,6)\" stroke-width=\"1\"><tspan dy=\"4.75\" style=\"-webkit-tap-highlight-color: rgba(0, 0, 0, 0);\">Start</tspan></text><rect x=\"0\" y=\"0\" width=\"78.375\" height=\"35.5\" rx=\"0\" ry=\"0\" fill=\"#ffffff\" stroke=\"#000000\" style=\"-webkit-tap-highlight-color: rgba(0, 0, 0, 0);\" stroke-width=\"3\" class=\"flowchart\" id=\"op1\" transform=\"matrix(1,0,0,1,125.9766,6)\"></rect><text x=\"10\" y=\"17.75\" text-anchor=\"start\" font-family=\"&quot;Arial&quot;\" font-size=\"14px\" stroke=\"none\" fill=\"#000000\" style=\"-webkit-tap-highlight-color: rgba(0, 0, 0, 0); text-anchor: start; font-family: Arial; font-size: 14px;\" id=\"op1t\" class=\"flowchartt\" transform=\"matrix(1,0,0,1,125.9766,6)\" stroke-width=\"1\"><tspan dy=\"4.75\" style=\"-webkit-tap-highlight-color: rgba(0, 0, 0, 0);\">Generate</tspan></text><rect x=\"0\" y=\"0\" width=\"74.484375\" height=\"35.5\" rx=\"0\" ry=\"0\" fill=\"#ffffff\" stroke=\"#000000\" style=\"-webkit-tap-highlight-color: rgba(0, 0, 0, 0);\" stroke-width=\"3\" class=\"flowchart\" id=\"op2\" transform=\"matrix(1,0,0,1,262.2969,6)\"></rect><text x=\"10\" y=\"17.75\" text-anchor=\"start\" font-family=\"&quot;Arial&quot;\" font-size=\"14px\" stroke=\"none\" fill=\"#000000\" style=\"-webkit-tap-highlight-color: rgba(0, 0, 0, 0); text-anchor: start; font-family: Arial; font-size: 14px;\" id=\"op2t\" class=\"flowchartt\" transform=\"matrix(1,0,0,1,262.2969,6)\" stroke-width=\"1\"><tspan dy=\"4.75\" style=\"-webkit-tap-highlight-color: rgba(0, 0, 0, 0);\">Evaluate</tspan></text><rect x=\"0\" y=\"0\" width=\"44.921875\" height=\"35.5\" rx=\"20\" ry=\"20\" fill=\"#ffffff\" stroke=\"#000000\" style=\"-webkit-tap-highlight-color: rgba(0, 0, 0, 0);\" stroke-width=\"3\" class=\"flowchart\" id=\"e\" transform=\"matrix(1,0,0,1,409.5078,6)\"></rect><text x=\"10\" y=\"17.75\" text-anchor=\"start\" font-family=\"&quot;Arial&quot;\" font-size=\"14px\" stroke=\"none\" fill=\"#000000\" style=\"-webkit-tap-highlight-color: rgba(0, 0, 0, 0); text-anchor: start; font-family: Arial; font-size: 14px;\" id=\"et\" class=\"flowchartt\" transform=\"matrix(1,0,0,1,409.5078,6)\" stroke-width=\"1\"><tspan dy=\"4.75\" style=\"-webkit-tap-highlight-color: rgba(0, 0, 0, 0);\">End</tspan></text><path fill=\"none\" stroke=\"#000000\" d=\"M69.9765625,23.75C69.9765625,23.75,108.17733335494995,23.75,121.47672281763516,23.75\" stroke-width=\"3\" marker-end=\"url(#raphael-marker-endblock33-objzy7dd)\" style=\"-webkit-tap-highlight-color: rgba(0, 0, 0, 0);\"></path><path fill=\"none\" stroke=\"#000000\" d=\"M204.3515625,23.75C204.3515625,23.75,244.1837150529027,23.75,257.7982203200081,23.75\" stroke-width=\"3\" marker-end=\"url(#raphael-marker-endblock33-obj6hxf2)\" style=\"-webkit-tap-highlight-color: rgba(0, 0, 0, 0);\"></path><path fill=\"none\" stroke=\"#000000\" d=\"M299.5390625,6C299.5390625,6,299.5390625,-19,299.5390625,-19C299.5390625,-19,165.1640625,-19,165.1640625,-19C165.1640625,-19,165.1640625,-5.696028709411621,165.1640625,1.5016276333481073\" stroke-width=\"3\" marker-end=\"url(#raphael-marker-endblock33-objjqdzo)\" style=\"-webkit-tap-highlight-color: rgba(0, 0, 0, 0);\"></path><path fill=\"none\" stroke=\"#000000\" d=\"M336.78125,23.75C336.78125,23.75,389.1572949066758,23.75,405.01332412647025,23.75\" stroke-width=\"3\" marker-end=\"url(#raphael-marker-endblock33-objxhbyx)\" style=\"-webkit-tap-highlight-color: rgba(0, 0, 0, 0);\"></path></svg>'"
      ]
     },
     "execution_count": 3,
     "metadata": {},
     "output_type": "execute_result"
    }
   ],
   "source": [
    "testEmbed.get_svg()"
   ]
  },
  {
   "cell_type": "markdown",
   "metadata": {},
   "source": [
    "### Embed PNG"
   ]
  },
  {
   "cell_type": "code",
   "execution_count": 7,
   "metadata": {},
   "outputs": [
    {
     "data": {
      "image/png": "[encoded data removed]",
      "text/plain": [
       "<IPython.core.display.Image object>"
      ]
     },
     "execution_count": 7,
     "metadata": {},
     "output_type": "execute_result"
    }
   ],
   "source": [
    "testEmbed.embed_png()"
   ]
  },
  {
   "cell_type": "markdown",
   "metadata": {},
   "source": [
    "### Return PNG raw"
   ]
  },
  {
   "cell_type": "code",
   "execution_count": 6,
   "metadata": {},
   "outputs": [],
   "source": [
    "# testEmbed.get_png()\n",
    "type(testEmbed.get_png())"
   ]
  },
  {
   "cell_type": "markdown",
   "metadata": {},
   "source": [
    "### Oneliner\n",
    "\n",
    "For example:"
   ]
  },
  {
   "cell_type": "code",
   "execution_count": 14,
   "metadata": {},
   "outputs": [
    {
     "data": {
      "application/vnd.jupyter.widget-view+json": {
       "model_id": "5d0d83701a654ea08de401e2a80eff4b",
       "version_major": 2,
       "version_minor": 0
      },
      "text/plain": [
       "FlowchartWidget(status='Not yet rendered')"
      ]
     },
     "metadata": {},
     "output_type": "display_data"
    }
   ],
   "source": [
    "FlowchartWidget().charter(fcode, embed=True)"
   ]
  },
  {
   "cell_type": "markdown",
   "metadata": {},
   "source": [
    "*TO DO: we could tweak the charter to return different embed types, not just the `jp_proxy_widget`.*"
   ]
  },
  {
   "cell_type": "markdown",
   "metadata": {},
   "source": [
    "### Demo Magic\n",
    "\n",
    "Simple magic:"
   ]
  },
  {
   "cell_type": "code",
   "execution_count": 51,
   "metadata": {},
   "outputs": [],
   "source": [
    "from IPython.core.magic import register_cell_magic\n",
    "\n",
    "@register_cell_magic\n",
    "def flowchart_magic(line, cell):\n",
    "    \"Generate flowchart.\"\n",
    "    return FlowchartWidget().charter(cell, embed=True)"
   ]
  },
  {
   "cell_type": "code",
   "execution_count": 52,
   "metadata": {},
   "outputs": [
    {
     "data": {
      "application/vnd.jupyter.widget-view+json": {
       "model_id": "29ca3b3642924c09a993591a287308fc",
       "version_major": 2,
       "version_minor": 0
      },
      "text/plain": [
       "FlowchartWidget(status='Not yet rendered')"
      ]
     },
     "metadata": {},
     "output_type": "display_data"
    }
   ],
   "source": [
    "%%flowchart_magic\n",
    "st=>start: Start\n",
    "e=>end: End\n",
    "op1=>operation: Generate\n",
    "op2=>parallel: Evaluate\n",
    "st(right)->op1(right)->op2\n",
    "op2(path1, top)->op1\n",
    "op2(path2, right)->e"
   ]
  },
  {
   "cell_type": "code",
   "execution_count": null,
   "metadata": {},
   "outputs": [],
   "source": []
  }
 ],
 "metadata": {
  "kernelspec": {
   "display_name": "Python 3",
   "language": "python",
   "name": "python3"
  },
  "language_info": {
   "codemirror_mode": {
    "name": "ipython",
    "version": 3
   },
   "file_extension": ".py",
   "mimetype": "text/x-python",
   "name": "python",
   "nbconvert_exporter": "python",
   "pygments_lexer": "ipython3",
   "version": "3.7.6"
  }
 },
 "nbformat": 4,
 "nbformat_minor": 4
}
